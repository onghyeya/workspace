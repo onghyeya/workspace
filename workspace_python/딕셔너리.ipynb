{
 "cells": [
  {
   "cell_type": "code",
   "execution_count": null,
   "metadata": {},
   "outputs": [],
   "source": [
    "# 딕셔너리 (dictionary) \n",
    "# 다수의 데이터를 key 와 value의 한 쌍으로 저장하는 자료형  "
   ]
  },
  {
   "cell_type": "code",
   "execution_count": null,
   "metadata": {},
   "outputs": [
    {
     "name": "stdout",
     "output_type": "stream",
     "text": [
      "{'학번': 3, '이름': '이', '점수': 80}\n"
     ]
    }
   ],
   "source": [
    "# 딕셔너리 데이터를 생성\n",
    "dic1 = {} # 빈 딕셔너리 데이터 생성\n",
    "dic2 = {\n",
    "  '학번': 3\n",
    "  ,'이름': '김'\n",
    "  ,'점수': 80\n",
    "  ,'이름': '이' # javascript 랑 같음 중복 key값은 마지막 데이터가 들어감.\n",
    "}\n",
    "\n",
    "print(dic2)"
   ]
  },
  {
   "cell_type": "code",
   "execution_count": 13,
   "metadata": {},
   "outputs": [
    {
     "name": "stdout",
     "output_type": "stream",
     "text": [
      "3\n"
     ]
    }
   ],
   "source": [
    "# 딕셔너리 데이터 읽기\n",
    "print(dic2['학번'])"
   ]
  },
  {
   "cell_type": "code",
   "execution_count": 4,
   "metadata": {},
   "outputs": [
    {
     "name": "stdout",
     "output_type": "stream",
     "text": [
      "{'modleName': 's20', 'price': 10000, 'color': 'red'}\n",
      "{'modleName': 's20', 'price': 5000, 'color': 'red'}\n"
     ]
    }
   ],
   "source": [
    "phone = {\n",
    "  'modleName' : 's20'\n",
    "  ,'price' : 10000\n",
    "}\n",
    "# 딕셔너리 데이터 추가\n",
    "phone['color'] = 'red'\n",
    "print(phone)\n",
    "# 딕셔너리 데이터 변경\n",
    "phone['price'] = 5000\n",
    "print(phone)"
   ]
  },
  {
   "cell_type": "code",
   "execution_count": 5,
   "metadata": {},
   "outputs": [
    {
     "name": "stdout",
     "output_type": "stream",
     "text": [
      "{'brand': 'i-phone', 'price': 1000}\n"
     ]
    }
   ],
   "source": [
    "# 딕셔너리 데이터 삭제\n",
    "monitor = {\n",
    "  'brand' : 'i-phone'\n",
    "  ,'price' : 1000\n",
    "  ,'color' : 'balck'\n",
    "}\n",
    "\n",
    "# monitor 딕셔너리 데이터에서 color 값을 삭제\n",
    "del monitor['color']\n",
    "print(monitor)"
   ]
  },
  {
   "cell_type": "code",
   "execution_count": 11,
   "metadata": {},
   "outputs": [
    {
     "name": "stdout",
     "output_type": "stream",
     "text": [
      "brand : i-phone\n",
      "price : 1000\n",
      "color : balck\n"
     ]
    }
   ],
   "source": [
    "monitor = {\n",
    "  'brand' : 'i-phone'\n",
    "  ,'price' : 1000\n",
    "  ,'color' : 'balck'\n",
    "}\n",
    "# 딕셔너리 데이터를 반복 돌리면 key값만 나옴\n",
    "for e in monitor : \n",
    "  print(f'{e} : {monitor[e]}')"
   ]
  },
  {
   "cell_type": "code",
   "execution_count": 12,
   "metadata": {},
   "outputs": [],
   "source": [
    "member={\n",
    "  '이름' : '홍길동'\n",
    "  ,'나이' : 20\n",
    "  ,'취미' : ['운동','독서','등산']\n",
    "  ,'가족' : [\n",
    "    {\n",
    "      '관계' : '아빠'\n",
    "      ,'이름' : '홍아빠'\n",
    "    }\n",
    "    ,{\n",
    "      '관계' : '엄마'\n",
    "      ,'이름' : '홍엄마'\n",
    "    }\n",
    "  ]\n",
    "}"
   ]
  },
  {
   "cell_type": "code",
   "execution_count": null,
   "metadata": {},
   "outputs": [
    {
     "name": "stdout",
     "output_type": "stream",
     "text": [
      "['운동', '독서', '등산']\n",
      "3\n",
      "등산\n",
      "홍아빠\n",
      "{'이름': '홍길동', '나이': 20, '취미': ['운동', '독서', '등산'], '가족': [{'관계': '아빠', '이름': '홍아빠'}, {'관계': '엄마', '이름': '홍엄마', '나이': 50}]}\n"
     ]
    }
   ],
   "source": [
    "# member 딕셔너리에서 모든 취미 출력\n",
    "print(member['취미'])\n",
    "# member 딕셔너리에서 모든 취미의 개수 출력\n",
    "cnt = 0\n",
    "for e in member['취미'] :\n",
    "  cnt +=1\n",
    "print(cnt)\n",
    "\n",
    "print(len(member['취미']))\n",
    "# member 딕셔너리에서 마지막 취미 출력\n",
    "print(member['취미'][2])\n",
    "print(member['취미'][-1])\n",
    "  \n",
    "# member 딕셔너리에서 아빠의 이름 출력\n",
    "print(member['가족'][0]['이름'])\n",
    "  \n",
    "# member 딕셔너리에서 엄마의 나이를 50으로 추가 \n",
    "member['가족'][1]['나이'] = 50\n",
    "print(member)"
   ]
  },
  {
   "cell_type": "code",
   "execution_count": null,
   "metadata": {},
   "outputs": [],
   "source": []
  },
  {
   "cell_type": "code",
   "execution_count": null,
   "metadata": {},
   "outputs": [],
   "source": []
  }
 ],
 "metadata": {
  "kernelspec": {
   "display_name": "Python 3",
   "language": "python",
   "name": "python3"
  },
  "language_info": {
   "codemirror_mode": {
    "name": "ipython",
    "version": 3
   },
   "file_extension": ".py",
   "mimetype": "text/x-python",
   "name": "python",
   "nbconvert_exporter": "python",
   "pygments_lexer": "ipython3",
   "version": "3.13.2"
  }
 },
 "nbformat": 4,
 "nbformat_minor": 2
}
