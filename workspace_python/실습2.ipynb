{
 "cells": [
  {
   "cell_type": "code",
   "execution_count": 15,
   "metadata": {},
   "outputs": [
    {
     "name": "stdout",
     "output_type": "stream",
     "text": [
      "10\n",
      "10\n"
     ]
    }
   ],
   "source": [
    "#1. 다음 리스트에서 최대값을 구하시오.\n",
    "list1 = [3, 10, 8, 7, 5]\n",
    "\n",
    "# 파이썬으로 푸는 법\n",
    "data = max(list1)\n",
    "data2 = min(list1)\n",
    "print(data)\n",
    "\n",
    "# 0번째 요소를 가장 큰 값이라고 가정\n",
    "maxData = list1[0]\n",
    "for e in list1 : \n",
    "  if maxData < e :\n",
    "    maxData = e\n",
    "print(maxData)"
   ]
  },
  {
   "cell_type": "code",
   "execution_count": null,
   "metadata": {},
   "outputs": [
    {
     "name": "stdout",
     "output_type": "stream",
     "text": [
      "54\n",
      "54\n"
     ]
    }
   ],
   "source": [
    "#2. 다음 두 리스트에 존재하는 모든 요소의 합을 구하시오.\n",
    "list2 = [1, 3, 5]\n",
    "list3 = [10, 15, 20]\n",
    "\n",
    "# 선생님이 한거\n",
    "sumList = list2 + list3\n",
    "sumData = 0\n",
    "for num in sumList : \n",
    "  sumData += num\n",
    "print(sumData)\n",
    "\n",
    "print(sum(sumList)) # 신기\n",
    "\n",
    "# 내가 한거\n",
    "# sumData = 0\n",
    "# sumData1 = 0\n",
    "# for num in list2 : \n",
    "#   sumData = sumData + num\n",
    "# for num1 in list3 :\n",
    "#   sumData1 = sumData1 + num1\n",
    "\n",
    "# print(sumData+sumData1)"
   ]
  },
  {
   "cell_type": "code",
   "execution_count": 21,
   "metadata": {},
   "outputs": [],
   "source": [
    "del sum"
   ]
  },
  {
   "cell_type": "code",
   "execution_count": 26,
   "metadata": {},
   "outputs": [
    {
     "name": "stdout",
     "output_type": "stream",
     "text": [
      "1\n",
      "2\n",
      "5\n",
      "10\n"
     ]
    }
   ],
   "source": [
    "#3. 입력받은 정수의 약수를 모두 출력하세요\n",
    "#ex> 입력 10 -> 1, 2, 5, 10\n",
    "num3 = int(input('정수 입력'))\n",
    "\n",
    "# 3을 입력\n",
    "# 1이 3의 약수?\n",
    "# 2이 3의 약수?\n",
    "# 3이 3의 약수?\n",
    "\n",
    "for e in range(1,num3+1) : \n",
    "  if num3 % e ==0 : \n",
    "    print(e)"
   ]
  },
  {
   "cell_type": "code",
   "execution_count": 31,
   "metadata": {},
   "outputs": [
    {
     "name": "stdout",
     "output_type": "stream",
     "text": [
      "[6, 8, 10]\n"
     ]
    }
   ],
   "source": [
    "#4. 키보드로 입력받은 세 정수 * 2한 값을 요소로 갖는 리스트를 생성하고 출력하세요.\n",
    "#ex> 입력 : 1,5,10 -> 결과 : [2, 10, 20]\n",
    "\n",
    "list4 = []\n",
    "for i in range(3) : \n",
    "  num = int(input(f'{i+1}번째 정수 입력'))\n",
    "  list4.append(num*2)\n",
    "print(list4)\n",
    "\n"
   ]
  },
  {
   "cell_type": "code",
   "execution_count": null,
   "metadata": {},
   "outputs": [
    {
     "name": "stdout",
     "output_type": "stream",
     "text": [
      "3\n",
      "3\n"
     ]
    }
   ],
   "source": [
    "#5. 다음의 데이터에서 't' 의 갯수를 구하시오.\n",
    "#힌트 : 파이썬은 문자열도 리스트이기에 반복문을 사용할 수 있음\n",
    "data1 = ['brother', 'mother', 'sister']\n",
    "# 선생님이 한거\n",
    "tCnt = 0\n",
    "for word in data1 :\n",
    "  for c in word :\n",
    "    if c == 't' :\n",
    "      tCnt += 1\n",
    "print(tCnt)\n",
    "\n",
    "data = [['brother', 'mother', 'sister']]\n",
    "# 내가 한거\n",
    "num = 0\n",
    "for str in data : \n",
    "  for str1 in str :\n",
    "    for str2 in str1 : \n",
    "      if str2 == 't' : \n",
    "        num += 1\n",
    "print(num)"
   ]
  }
 ],
 "metadata": {
  "kernelspec": {
   "display_name": "Python 3",
   "language": "python",
   "name": "python3"
  },
  "language_info": {
   "codemirror_mode": {
    "name": "ipython",
    "version": 3
   },
   "file_extension": ".py",
   "mimetype": "text/x-python",
   "name": "python",
   "nbconvert_exporter": "python",
   "pygments_lexer": "ipython3",
   "version": "3.13.2"
  }
 },
 "nbformat": 4,
 "nbformat_minor": 2
}
