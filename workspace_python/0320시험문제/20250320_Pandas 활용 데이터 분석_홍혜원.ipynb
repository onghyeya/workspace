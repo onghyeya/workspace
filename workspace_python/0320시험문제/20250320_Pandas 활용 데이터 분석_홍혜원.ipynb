{
 "cells": [
  {
   "cell_type": "markdown",
   "id": "3609ab45",
   "metadata": {},
   "source": [
    "# 파이썬 프로그래밍 시험 (A)"
   ]
  },
  {
   "cell_type": "markdown",
   "id": "ad1f7e5f",
   "metadata": {},
   "source": [
    "1. 키보드로 세 수를 입력받고,입력받은 세 수를 리스트에 저장하시오. 그 후 리스트에 저장된 수 중 가장 큰 수와 가장 작은 수의 차를 출력하시오."
   ]
  },
  {
   "cell_type": "code",
   "execution_count": null,
   "id": "59446e63",
   "metadata": {},
   "outputs": [],
   "source": [
    "#1번 문제 풀이 작성\n",
    "list1 = []\n",
    "for e in range(3):\n",
    "  num1 = int(input('정수입력'))\n",
    "  list1.append(num1)\n",
    "\n",
    "a = max(list1)\n",
    "b = min(list1)\n",
    "print(a-b)"
   ]
  },
  {
   "cell_type": "markdown",
   "id": "45634a8b",
   "metadata": {},
   "source": [
    "2. 매개변수로 두 개의 리스트를 받아, 두 개의 리스트에 저장된 모든 데이터의 합을 리턴하는 함수를 작성하시오.  \n",
    "EX> 두 매개변수 : [1,2,3] , [4,5,6] / 결과 : 21"
   ]
  },
  {
   "cell_type": "code",
   "execution_count": null,
   "id": "64188f9f",
   "metadata": {},
   "outputs": [],
   "source": [
    "#2번 문제 풀이 작성\n",
    "list1 = [1,2,3]\n",
    "list2 = [4,5,6]\n",
    "sumList = list1+list2\n",
    "sumData = 0\n",
    "\n",
    "for e in sumList :\n",
    "  sumData += e\n",
    "print(sumData)\n",
    "print(sum(sumList))\n",
    "\n"
   ]
  },
  {
   "cell_type": "markdown",
   "id": "2e03b884",
   "metadata": {},
   "source": [
    "3. 매개변수로 두 개의 리스트를 받아, 두 개의 리스트에 중복으로 저장된 데이터만을 갖는  새로운 리스트를 리턴하는 함수를 작성하시오.  \n",
    "EX> 두 매개변수 : [1,3,5,7,9] , [1,2,3,4,5] / 결과 : [1,3,5]"
   ]
  },
  {
   "cell_type": "code",
   "execution_count": null,
   "id": "06603c1d",
   "metadata": {},
   "outputs": [],
   "source": [
    "#3번 문제 풀이 작성\n",
    "list1 = [1,3,5,7,9]\n",
    "list2 = [1,2,3,4,5]\n",
    "list3 = []\n",
    "\n",
    "def test(list1,list2):\n",
    "  for num1 in list1:\n",
    "    if num1 in list2:\n",
    "      list3.append(num1)\n",
    "  return list3\n",
    "test(list1,list2)"
   ]
  },
  {
   "cell_type": "markdown",
   "id": "cfde14e4",
   "metadata": {},
   "source": [
    "4. 이름, 나이, 국어점수, 영어점수, 국어점수를 데이터로 갖는 student 딕셔너리를 만드시오. 각 데이터는 키보드로 입력받아 저장하시오."
   ]
  },
  {
   "cell_type": "code",
   "execution_count": null,
   "id": "3bec11d1",
   "metadata": {},
   "outputs": [],
   "source": [
    "#4번 문제 풀이 작성\n",
    "\n",
    "student = {\n",
    "  '이름' : input('이름 : ')\n",
    "  ,'나이' : int(input(\"나이 : \"))\n",
    "  ,'국어점수' : int(input(\"국어점수 : \"))\n",
    "  ,'영어점수' : int(input(\"영어점수 : \"))\n",
    "  ,'수학점수' : int(input(\"수학점수 : \"))\n",
    "}"
   ]
  },
  {
   "cell_type": "markdown",
   "id": "bfdfd34d",
   "metadata": {},
   "source": [
    "5. 4번 문제에서 만든 딕셔너리 데이터에 총점 데이터를 추가하시오. 총점 데이터는 국어,영어, 수학점수의 합으로 들어가야합니다."
   ]
  },
  {
   "cell_type": "code",
   "execution_count": null,
   "id": "98179e8a",
   "metadata": {},
   "outputs": [],
   "source": [
    "#5번 문제 풀이 작성\n",
    "student['총점'] = student['국어점수']+student['영어점수']+student['수학점수']\n",
    "print(student['총점'])"
   ]
  },
  {
   "cell_type": "markdown",
   "id": "ec5ad5ab",
   "metadata": {},
   "source": [
    "6. 아래 딕셔너리 데이터에 stu_grade라는 키를 추가하고, 해당 키의  데이터로  점수(stu_score)에 따른 등급 데이터를 저장하시오.  \n",
    "90 <= 점수      : A등급  \n",
    "80 <= 점수 < 90 : B등급  \n",
    "70 <= 점수 < 80 : C등급  \n",
    "      점수 < 70 : D등급 "
   ]
  },
  {
   "cell_type": "code",
   "execution_count": null,
   "id": "c53fe493",
   "metadata": {},
   "outputs": [],
   "source": [
    "class_room_data = {\n",
    "    'stu_no' : [1, 2, 3, 4, 5],\n",
    "    'stu_name' : ['김자바', '이자바', '박자바', '최자바', '정자바'],\n",
    "    'stu_score' : [85, 65, 70, 80, 95]\n",
    "}\n",
    "\n",
    "#6번 문제 풀이 작성\n",
    "\n",
    "class_room_data['stu_grade']=[]\n",
    "\n",
    "for e in class_room_data['stu_score']:\n",
    "  if e>=90 :\n",
    "    class_room_data['stu_grade'].append('A등급')\n",
    "  elif e>=80 :\n",
    "    class_room_data['stu_grade'].append('B등급')\n",
    "  elif e>=70 :\n",
    "    class_room_data['stu_grade'].append('C등급')\n",
    "  else :\n",
    "    class_room_data['stu_grade'].append('D등급')\n"
   ]
  },
  {
   "cell_type": "markdown",
   "id": "9190a70a",
   "metadata": {},
   "source": [
    "7. 아래 데이터는 자바반과 자반에 소속된 학생들의 정보이다.  \n",
    "나이가 30살 이상인 학생들의 점수의 합을 출력하세요."
   ]
  },
  {
   "cell_type": "code",
   "execution_count": 4,
   "id": "7011a6ed",
   "metadata": {},
   "outputs": [
    {
     "name": "stdout",
     "output_type": "stream",
     "text": [
      "250\n"
     ]
    }
   ],
   "source": [
    "javaClass= {\n",
    "  'calssName' : '자바반',\n",
    "  'teacher' : '김자바',\n",
    "  'studentList' : [\n",
    "    {'name' : '홍길동', 'age': 31, 'score' : 85},\n",
    "    {'name' : '이순신', 'age': 35, 'score' : 95},\n",
    "    {'name' : '유관순', 'age': 29, 'score' : 80},\n",
    "    {'name' : '장영실', 'age': 37, 'score' : 70},\n",
    "    {'name' : '신사임당', 'age': 25, 'score' : 65},\n",
    "  ]\n",
    "}\n",
    "\n",
    "# 7번 문제 답안 작성\n",
    "sumData=0\n",
    "for stu in javaClass['studentList']:\n",
    "  if stu['age'] >= 30:\n",
    "    sumData += stu['score']\n",
    "print(sumData)"
   ]
  },
  {
   "cell_type": "markdown",
   "id": "8f4bf8e7",
   "metadata": {},
   "source": [
    "다음 딕셔너리 데이터를 참고하여 아래 문제들을 해결하시오."
   ]
  },
  {
   "cell_type": "code",
   "execution_count": 4,
   "id": "430a8a07",
   "metadata": {},
   "outputs": [],
   "source": [
    "# 2012년 광역시별 25세 미만 연령별 인구 데이터\n",
    "population = {\n",
    "    '행정기관' : ['서울특별시', '부산광역시', '대구광역시', '인천광역시', '울산광역시'],\n",
    "    '0~4세' : [214651, 68006, 53515, 69453, 29835],\n",
    "    '5~9세' : [210833, 68704, 58332, 68555, 29331],\n",
    "    '10~14세' : [269171, 94802, 91268, 86574, 29035],\n",
    "    '15~19세' : [335828, 124564, 101110, 106435, 49119],\n",
    "    '20~24세' : [343797, 125907, 96078, 102297, 43937]\n",
    "}"
   ]
  },
  {
   "cell_type": "markdown",
   "id": "9fb883b0",
   "metadata": {},
   "source": [
    "8. 2012년 기준 대한민국에서 25세 미만의 인구수 중 인구가 가장 많은 연령대를 출력하시오."
   ]
  },
  {
   "cell_type": "code",
   "execution_count": 61,
   "id": "7eb47dd2",
   "metadata": {},
   "outputs": [
    {
     "name": "stdout",
     "output_type": "stream",
     "text": [
      "15~19세\n"
     ]
    }
   ],
   "source": [
    "# 8번 문제 답안 작성\n",
    "maxData = 0\n",
    "column = ''\n",
    "for e in population:\n",
    "  if e != '행정기관':\n",
    "    sumData = sum(population[e])\n",
    "    if sumData>maxData:\n",
    "      maxData=sumData\n",
    "      column = e\n",
    "print(column)\n"
   ]
  },
  {
   "cell_type": "markdown",
   "id": "8360f3ef",
   "metadata": {},
   "source": [
    "9. '총 인구수' 라는 키를 추가하고, 해당 키에 0세부터 24세까지의 인구 합을 데이터로 하여 population 데이터에 추가하시오."
   ]
  },
  {
   "cell_type": "code",
   "execution_count": null,
   "id": "47129ee7",
   "metadata": {},
   "outputs": [
    {
     "name": "stdout",
     "output_type": "stream",
     "text": [
      "{'행정기관': ['서울특별시', '부산광역시', '대구광역시', '인천광역시', '울산광역시'], '0~4세': [214651, 68006, 53515, 69453, 29835], '5~9세': [210833, 68704, 58332, 68555, 29331], '10~14세': [269171, 94802, 91268, 86574, 29035], '15~19세': [335828, 124564, 101110, 106435, 49119], '20~24세': [343797, 125907, 96078, 102297, 43937], '총 인구수': [1374280, 481983, 400303, 433314, 181257]}\n"
     ]
    }
   ],
   "source": [
    "# 9번 문제 답안 작성\n",
    "\n",
    "population['총 인구수']=[]\n",
    "\n",
    "num1 = population['0~4세'][0]+population['5~9세'][0]+population['10~14세'][0]+population['15~19세'][0]+population['20~24세'][0]\n",
    "num2 = population['0~4세'][1]+population['5~9세'][1]+population['10~14세'][1]+population['15~19세'][1]+population['20~24세'][1]\n",
    "num3 = population['0~4세'][2]+population['5~9세'][2]+population['10~14세'][2]+population['15~19세'][2]+population['20~24세'][2]\n",
    "num4 = population['0~4세'][3]+population['5~9세'][3]+population['10~14세'][3]+population['15~19세'][3]+population['20~24세'][3]\n",
    "num5 = population['0~4세'][4]+population['5~9세'][4]+population['10~14세'][4]+population['15~19세'][4]+population['20~24세'][4]\n",
    "\n",
    "population['총 인구수'].append(num1)\n",
    "population['총 인구수'].append(num2)\n",
    "population['총 인구수'].append(num3)\n",
    "population['총 인구수'].append(num4)\n",
    "population['총 인구수'].append(num5)\n",
    "\n",
    "population\n",
    "\n",
    "# 간단하게 하는 방법\n",
    "for e in range(len(population['행정기관'])):\n",
    "  result1 = population['0~4세'][e] + population['5~9세'][e] + population['10~14세'][e] + population['15~19세'][e] +population['20~24세'][e]\n",
    "  population['총 인구수'].append(result1)\n",
    "print(population)\n"
   ]
  }
 ],
 "metadata": {
  "kernelspec": {
   "display_name": "Python 3",
   "language": "python",
   "name": "python3"
  },
  "language_info": {
   "codemirror_mode": {
    "name": "ipython",
    "version": 3
   },
   "file_extension": ".py",
   "mimetype": "text/x-python",
   "name": "python",
   "nbconvert_exporter": "python",
   "pygments_lexer": "ipython3",
   "version": "3.13.2"
  }
 },
 "nbformat": 4,
 "nbformat_minor": 5
}
