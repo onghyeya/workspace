{
 "cells": [
  {
   "cell_type": "markdown",
   "metadata": {},
   "source": [
    "##### 1.리스트(list)"
   ]
  },
  {
   "cell_type": "code",
   "execution_count": null,
   "metadata": {},
   "outputs": [],
   "source": [
    "# 리스트 생성(자바스크립트의 배열)\n",
    "# 주의! 변수명을 절대로 list로 선언하지 않을 것!\n",
    "# (동일한 함수명이랑 변수명이랑 중첩되어 파이썬이 생각함.)\n",
    "list1 = [] # 빈 리스트를 생성\n",
    "list2 = [1,2,3]\n",
    "list3 = [1,2,'python',[7,8]] # 리스트에는 다른 자료형도 저장 가능"
   ]
  },
  {
   "cell_type": "code",
   "execution_count": 11,
   "metadata": {},
   "outputs": [
    {
     "name": "stdout",
     "output_type": "stream",
     "text": [
      "[1, 2, 3]\n",
      "2\n",
      "8\n"
     ]
    }
   ],
   "source": [
    "# 리스트의 데이터 출력\n",
    "print(list2)\n",
    "print(list2[1])\n",
    "print(list3[3][1])"
   ]
  },
  {
   "cell_type": "code",
   "execution_count": null,
   "metadata": {},
   "outputs": [
    {
     "name": "stdout",
     "output_type": "stream",
     "text": [
      "[1, 2, 3]\n",
      "[1, 2, 3, 5, 7]\n",
      "[1, 2, 3, 5, 10, 7]\n"
     ]
    }
   ],
   "source": [
    "# 리스트에 데이터 추가하기\n",
    "# 1. append() 함수 사용 - list의 마지막 요소에 데이터를 추가\n",
    "list1 = [1,2,3]\n",
    "print(list1)\n",
    "\n",
    "list1.append(5)\n",
    "list1.append(7)\n",
    "print(list1)\n",
    "\n",
    "# 2. insert() 함수 사용 - 지정한 위치에 데이터를 추가\n",
    "list1.insert(1,10) # 첫번째 인자 : 추가 할 index, 두번째 인자 : 추가할 데이터\n",
    "print(list1)\n"
   ]
  },
  {
   "cell_type": "code",
   "execution_count": null,
   "metadata": {},
   "outputs": [
    {
     "name": "stdout",
     "output_type": "stream",
     "text": [
      "[1, 2, 4, 5, 3]\n"
     ]
    }
   ],
   "source": [
    "# 리스트 데이터의 삭제\n",
    "list1 = [1,2,3,4,5,3]\n",
    "\n",
    "# [ 추천 ] del 명령어 사용 - list의 n 번째( index ) 요소를 삭제\n",
    "del list1[2]\n",
    "\n",
    "# del 명령어 사용시 주의 사항!\n",
    "# 아래와 같은 예시는 list1 변수 자체를 삭제하는 것이기 때문에 오류 발생!\n",
    "# del list1\n",
    "\n",
    "# [ 비추천 ] remove(삭제할 데이터)\n",
    "# list1.remove(3)\n",
    "print(list1)"
   ]
  },
  {
   "cell_type": "code",
   "execution_count": 22,
   "metadata": {},
   "outputs": [
    {
     "name": "stdout",
     "output_type": "stream",
     "text": [
      "[1, 5, 3]\n",
      "[1, 5, 'hello']\n"
     ]
    }
   ],
   "source": [
    "# 리스트 데이터의 수정\n",
    "list1 = [1,2,3]\n",
    "list1[1] = 5\n",
    "print(list1)\n",
    "\n",
    "list1[2] = 'hello'\n",
    "print(list1)"
   ]
  },
  {
   "cell_type": "code",
   "execution_count": 24,
   "metadata": {},
   "outputs": [
    {
     "name": "stdout",
     "output_type": "stream",
     "text": [
      "[1, 2, 3, 4, 5, 6]\n",
      "[1, 2, 3, 1, 2, 3, 1, 2, 3]\n"
     ]
    }
   ],
   "source": [
    "# 리스트 나열\n",
    "list1 = [1,2,3] + [4,5,6]\n",
    "print(list1)\n",
    "\n",
    "list2 = [1,2,3] * 3\n",
    "print(list2)"
   ]
  },
  {
   "cell_type": "code",
   "execution_count": null,
   "metadata": {},
   "outputs": [
    {
     "name": "stdout",
     "output_type": "stream",
     "text": [
      "[2, 3, 4]\n",
      "[2, 3, 4]\n",
      "[3, 4, 5]\n",
      "[1, 2, 3]\n",
      "[1, 2, 3, 4, 5]\n",
      "[3, 4]\n"
     ]
    }
   ],
   "source": [
    "# 리스트의 슬라이싱 연산 - 데이터 일부분 추출\n",
    "list1 = [1,2,3,4,5]\n",
    "print(list1[1:4]) # list1[시작 index(포함) : 마지막 index(제외)]\n",
    "\n",
    "list2 = list1[1:4] \n",
    "print(list2)\n",
    "\n",
    "list3 = [1,2,3,4,5]\n",
    "print(list3[2:]) # 마지막 index를 작성X list 끝까지!\n",
    "print(list3[:3]) # 시작 index를 작성X list 처음부터 [3]까지! \n",
    "print(list3[:]) # 둘 다 index를 작성X list 처음부터 끝까지!\n",
    "print(list3[2:-1]) # 음수(뒤에서부터 -1,-2,-3...)도 사용 가능!"
   ]
  },
  {
   "cell_type": "code",
   "execution_count": null,
   "metadata": {},
   "outputs": [
    {
     "name": "stdout",
     "output_type": "stream",
     "text": [
      "대\n",
      "민국 울산\n",
      "052-1111-2222\n",
      "052-2222-2222\n"
     ]
    }
   ],
   "source": [
    "# 파이썬은 문자열도 리스트로 취급\n",
    "addr = '대한민국 울산시 남구'\n",
    "print(addr[0])\n",
    "print(addr[2:7])\n",
    "\n",
    "# 마이너스 인덱스의 사용 예시\n",
    "addrList = [\n",
    "  '스타벅스 삼산점 052-1111-2222'\n",
    "  ,'스타벅스 신정2동점 052-2222-2222'\n",
    "  ,'스타벅스 수암점 052-3333-2222'\n",
    "]\n",
    "\n",
    "# 스타벅스 매장 정보에서 연락처만 추출\n",
    "# 문자의 개수가 동일한 것을 추출할 때 좋음!\n",
    "print(addrList[0][-13:])\n",
    "print(addrList[1][-13:])"
   ]
  },
  {
   "cell_type": "code",
   "execution_count": 38,
   "metadata": {},
   "outputs": [
    {
     "name": "stdout",
     "output_type": "stream",
     "text": [
      "[1, 4, 5]\n"
     ]
    }
   ],
   "source": [
    "# 슬라이싱을 사용한 리스트의 데이터 제거\n",
    "list1 = [1,2,3,4,5]\n",
    "\n",
    "del list1[1:3]\n",
    "print(list1)"
   ]
  },
  {
   "cell_type": "code",
   "execution_count": 40,
   "metadata": {},
   "outputs": [
    {
     "name": "stdout",
     "output_type": "stream",
     "text": [
      "[1, 7, 8, 4, 5]\n",
      "[1, 1, 2, 5]\n"
     ]
    }
   ],
   "source": [
    "# 슬라이싱을 이용한 데이터 수정\n",
    "list1 = [1,2,3,4,5]\n",
    "\n",
    "list1[1:3] = [7,8]\n",
    "print(list1)\n",
    "\n",
    "list1[1:4] = [1,2]\n",
    "print(list1)\n"
   ]
  },
  {
   "cell_type": "code",
   "execution_count": 41,
   "metadata": {},
   "outputs": [
    {
     "name": "stdout",
     "output_type": "stream",
     "text": [
      "python\n"
     ]
    }
   ],
   "source": [
    "# 리스트의 마지막 데이터 찾기\n",
    "list2 = [3,8,'java',10,'python']\n",
    "print(list2[-1])"
   ]
  },
  {
   "cell_type": "code",
   "execution_count": null,
   "metadata": {},
   "outputs": [],
   "source": []
  }
 ],
 "metadata": {
  "kernelspec": {
   "display_name": "Python 3",
   "language": "python",
   "name": "python3"
  },
  "language_info": {
   "codemirror_mode": {
    "name": "ipython",
    "version": 3
   },
   "file_extension": ".py",
   "mimetype": "text/x-python",
   "name": "python",
   "nbconvert_exporter": "python",
   "pygments_lexer": "ipython3",
   "version": "3.13.2"
  }
 },
 "nbformat": 4,
 "nbformat_minor": 2
}
