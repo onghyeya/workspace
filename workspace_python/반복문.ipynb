{
 "cells": [
  {
   "cell_type": "code",
   "execution_count": null,
   "metadata": {},
   "outputs": [],
   "source": [
    "# 파이썬은 for-each문만 제공함. ( 일반 for문 없음 ) "
   ]
  },
  {
   "cell_type": "code",
   "execution_count": null,
   "metadata": {},
   "outputs": [
    {
     "name": "stdout",
     "output_type": "stream",
     "text": [
      "반복문 실행 1\n",
      "반복문 실행 3\n",
      "반복문 실행 5\n"
     ]
    }
   ],
   "source": [
    "for e in [1,3,5] : \n",
    "  print('반복문 실행',end=' ')\n",
    "  print(e)"
   ]
  },
  {
   "cell_type": "code",
   "execution_count": 6,
   "metadata": {},
   "outputs": [
    {
     "name": "stdout",
     "output_type": "stream",
     "text": [
      "hello hello hello hello hello hello hello hello hello hello 0\n",
      "1\n",
      "2\n",
      "3\n",
      "4\n",
      "5\n",
      "6\n",
      "7\n",
      "8\n",
      "9\n"
     ]
    }
   ],
   "source": [
    "# 같은 코드를 단순히 반복 실행 시킬때는 range()를 사용\n",
    "# range(반복 시작 숫자, 반복 마지막 숫자(포함x))\n",
    "for e in range(0,10) : \n",
    "  print('hello',end=' ')\n",
    "\n",
    "# range() 함수의 첫번째 인자로 0을 전달할때는 첫번째 인자를 생략 가능\n",
    "for e in range(10) : # range(0,10) 과 같은 의미\n",
    "  print(e)"
   ]
  },
  {
   "cell_type": "code",
   "execution_count": 9,
   "metadata": {},
   "outputs": [
    {
     "name": "stdout",
     "output_type": "stream",
     "text": [
      "i = 0, num = 1\n",
      "i = 1, num = 2\n",
      "i = 2, num = 3\n",
      "i = 3, num = 4\n",
      "i = 4, num = 5\n"
     ]
    }
   ],
   "source": [
    "# 반복의 index를 알고 싶다면 enumerate() 함수를 사용해야 함\n",
    "list1 = [1,2,3,4,5]\n",
    "\n",
    "for i,num in enumerate(list1) : \n",
    "  print(f'i = {i}, num = {num}')"
   ]
  },
  {
   "cell_type": "code",
   "execution_count": 12,
   "metadata": {},
   "outputs": [
    {
     "name": "stdout",
     "output_type": "stream",
     "text": [
      "안녕하세요\n"
     ]
    }
   ],
   "source": [
    "# 번외 키보드로 데이터 입력 받기(Java의 Scanner)\n",
    "inputData = input('정수를 입력하세요 : ')\n",
    "print(inputData)"
   ]
  },
  {
   "cell_type": "code",
   "execution_count": null,
   "metadata": {},
   "outputs": [],
   "source": []
  },
  {
   "cell_type": "code",
   "execution_count": null,
   "metadata": {},
   "outputs": [],
   "source": []
  }
 ],
 "metadata": {
  "kernelspec": {
   "display_name": "Python 3",
   "language": "python",
   "name": "python3"
  },
  "language_info": {
   "codemirror_mode": {
    "name": "ipython",
    "version": 3
   },
   "file_extension": ".py",
   "mimetype": "text/x-python",
   "name": "python",
   "nbconvert_exporter": "python",
   "pygments_lexer": "ipython3",
   "version": "3.13.2"
  }
 },
 "nbformat": 4,
 "nbformat_minor": 2
}
