{
 "cells": [
  {
   "cell_type": "markdown",
   "metadata": {},
   "source": [
    "#### 1. 조건문 (if 문)"
   ]
  },
  {
   "cell_type": "code",
   "execution_count": null,
   "metadata": {},
   "outputs": [
    {
     "name": "stdout",
     "output_type": "stream",
     "text": [
      "1보다 큽니다\n",
      "1보다 큽니다\n",
      "2보다 작습니다\n"
     ]
    }
   ],
   "source": [
    "# 파이썬은 코드 뒤에 세미콜론 없음!\n",
    "# 파이썬 코드에는 중괄호 없음!\n",
    "# 들여쓰기를 하지 않으면 if 문 실행 안됨!('한번' 들여쓰기만!)\n",
    "# ' 들여쓰기 '로 if 문의 영역을 결정!\n",
    "num1 = 3\n",
    "\n",
    "if num1 > 1 :\n",
    "  print('1보다 큽니다')\n",
    "  print('1보다 큽니다')\n",
    "\n",
    "if num1 < 2 :\n",
    "  print('2보다 작습니다') # 들여쓰기 O > 조건문 ( 조건 X , 출력 X )\n",
    "print('2보다 작습니다')   # 들여쓰기 X > 기본 출력문 ( 출력 O )"
   ]
  },
  {
   "cell_type": "code",
   "execution_count": 5,
   "metadata": {},
   "outputs": [
    {
     "name": "stdout",
     "output_type": "stream",
     "text": [
      "2\n"
     ]
    }
   ],
   "source": [
    "num1 = 5\n",
    "\n",
    "if num1 > 5 :\n",
    "  print(1)\n",
    "elif num1 <= 5 :\n",
    "  print(2)\n",
    "else :\n",
    "  print(3)"
   ]
  },
  {
   "cell_type": "code",
   "execution_count": 6,
   "metadata": {},
   "outputs": [
    {
     "name": "stdout",
     "output_type": "stream",
     "text": [
      "참\n"
     ]
    }
   ],
   "source": [
    "scoreList = [80,70,60,90]\n",
    "\n",
    "# scoreList 에 90이 포함되어 있으면 '참'을 출력\n",
    "if 90 in scoreList : \n",
    "  print('참')"
   ]
  }
 ],
 "metadata": {
  "kernelspec": {
   "display_name": "Python 3",
   "language": "python",
   "name": "python3"
  },
  "language_info": {
   "codemirror_mode": {
    "name": "ipython",
    "version": 3
   },
   "file_extension": ".py",
   "mimetype": "text/x-python",
   "name": "python",
   "nbconvert_exporter": "python",
   "pygments_lexer": "ipython3",
   "version": "3.13.2"
  }
 },
 "nbformat": 4,
 "nbformat_minor": 2
}
