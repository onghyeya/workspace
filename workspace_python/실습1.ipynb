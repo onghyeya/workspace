{
 "cells": [
  {
   "cell_type": "code",
   "execution_count": 9,
   "metadata": {},
   "outputs": [
    {
     "name": "stdout",
     "output_type": "stream",
     "text": [
      "0입니다\n"
     ]
    }
   ],
   "source": [
    "# 키보드로 정수를 입력받아, 입력받은 정수가 짝수면 1을 출력, 홀수면 2를 출력\n",
    "# 입력 받은 수가 0이면 0입니다 출력하는 코드 작성\n",
    "# int(문자열) > 문자열을 정수로 반환\n",
    "\n",
    "num = int(input('정수를 입력해주세요'))\n",
    "\n",
    "if num % 2 == 0 and num != 0 :\n",
    "  print(1)\n",
    "elif num % 2 == 1 :\n",
    "  print(2)\n",
    "else:\n",
    "  print('0입니다')\n",
    "\n"
   ]
  },
  {
   "cell_type": "code",
   "execution_count": 16,
   "metadata": {},
   "outputs": [
    {
     "name": "stdout",
     "output_type": "stream",
     "text": [
      "55\n"
     ]
    }
   ],
   "source": [
    "# 키보드로 정수를 입력받아, 0부터 입력받은 수 까지의 합을 출력\n",
    "\n",
    "num1 = int(input('정수 입력'))\n",
    "\n",
    "result = 0\n",
    "for e in range(num1+1) : \n",
    "  result += e\n",
    "print(result)\n"
   ]
  },
  {
   "cell_type": "code",
   "execution_count": 17,
   "metadata": {},
   "outputs": [
    {
     "name": "stdout",
     "output_type": "stream",
     "text": [
      "5*1 = 5\n",
      "5*2 = 10\n",
      "5*3 = 15\n",
      "5*4 = 20\n",
      "5*5 = 25\n",
      "5*6 = 30\n",
      "5*7 = 35\n",
      "5*8 = 40\n",
      "5*9 = 45\n"
     ]
    }
   ],
   "source": [
    "# 키보드로 1-9까지의 정수를 입력 받아, 입력 받은 숫자의 구구단을 출력\n",
    "num = int(input('정수 입력'))\n",
    "\n",
    "for e in range(1,10) : \n",
    "  print(f'{num}*{e} = {num*e}')"
   ]
  },
  {
   "cell_type": "code",
   "execution_count": null,
   "metadata": {},
   "outputs": [],
   "source": []
  }
 ],
 "metadata": {
  "kernelspec": {
   "display_name": "Python 3",
   "language": "python",
   "name": "python3"
  },
  "language_info": {
   "codemirror_mode": {
    "name": "ipython",
    "version": 3
   },
   "file_extension": ".py",
   "mimetype": "text/x-python",
   "name": "python",
   "nbconvert_exporter": "python",
   "pygments_lexer": "ipython3",
   "version": "3.13.2"
  }
 },
 "nbformat": 4,
 "nbformat_minor": 2
}
